{
 "cells": [
  {
   "cell_type": "markdown",
   "metadata": {},
   "source": [
    "# Exercise 2b\n",
    "## Loïc Rosset, Nanae Aubry, Kilian Ruchti, Lionel Ieri\n",
    "## Import libraries"
   ]
  },
  {
   "cell_type": "code",
   "execution_count": 1,
   "metadata": {},
   "outputs": [],
   "source": [
    "# Import module\n",
    "import pandas as pd\n",
    "import math\n",
    "import numpy as np\n",
    "import torch\n",
    "import torch.nn as nn\n",
    "import torchvision\n",
    "from torchvision import transforms, datasets\n",
    "\n",
    "from copy import deepcopy\n",
    "\n",
    "from torch.utils.data import Dataset\n",
    "from torch.utils.data import DataLoader\n",
    "\n",
    "%matplotlib inline\n",
    "import matplotlib.pyplot as plt"
   ]
  },
  {
   "cell_type": "markdown",
   "metadata": {},
   "source": [
    "# load data"
   ]
  },
  {
   "cell_type": "code",
   "execution_count": 2,
   "metadata": {},
   "outputs": [],
   "source": [
    "#path to dataset\n",
    "mnist_train = \"./../dataset/csv/mnist_train.csv\"\n",
    "mnist_test = \"./../dataset/csv/mnist_test.csv\""
   ]
  },
  {
   "cell_type": "code",
   "execution_count": 3,
   "metadata": {},
   "outputs": [],
   "source": [
    "def read_data(filename):\n",
    "    df = pd.read_csv(filename, header=None)\n",
    "    #data into numpy array\n",
    "    data = df.iloc[:, 1:].values.reshape(-1, 1, 28, 28) /255.0\n",
    "    labels = df.iloc[:, 0].values\n",
    "    return data, labels"
   ]
  },
  {
   "cell_type": "code",
   "execution_count": 4,
   "metadata": {},
   "outputs": [],
   "source": [
    "# Load the training and the test set\n",
    "training_data, training_labels = read_data(mnist_train)\n",
    "test_data, test_labels = read_data(mnist_test)\n",
    "\n",
    "# Create validation data from training data (15%)\n",
    "size_data = len(training_data)\n",
    "limit = math.floor(3*size_data/20)\n",
    "\n",
    "val_data = training_data[:limit]\n",
    "train_data = training_data[limit:]\n",
    "\n",
    "val_labels = training_labels[:limit]\n",
    "train_labels = training_labels[limit:]"
   ]
  },
  {
   "cell_type": "code",
   "execution_count": 5,
   "metadata": {},
   "outputs": [],
   "source": [
    "# Create MnistDataset for Pytorch in tensor format\n",
    "class MnistDataset(Dataset):\n",
    "    def __init__(self, data, label):\n",
    "        tensor_data = torch.from_numpy(data.astype(np.float32))\n",
    "        self.data = tensor_data\n",
    "        self.label = torch.from_numpy(label)\n",
    "        self.n_samples = data.shape[0]\n",
    "        \n",
    "    def __getitem__(self, index):\n",
    "        return self.data[index], self.label[index]\n",
    "    \n",
    "    def __len__(self):\n",
    "        return self.n_samples"
   ]
  },
  {
   "cell_type": "code",
   "execution_count": 6,
   "metadata": {},
   "outputs": [],
   "source": [
    "train_dataset = MnistDataset(train_data, train_labels)\n",
    "val_dataset = MnistDataset(val_data, val_labels)\n",
    "test_dataset = MnistDataset(test_data, test_labels)\n",
    "\n",
    "# Create data loader\n",
    "params = {'batch_size': 32, 'shuffle': True}\n",
    "\n",
    "train_loader = torch.utils.data.DataLoader(train_dataset, **params)\n",
    "val_loader = torch.utils.data.DataLoader(val_dataset, **params)\n",
    "test_loader = torch.utils.data.DataLoader(test_dataset, **params)"
   ]
  },
  {
   "cell_type": "markdown",
   "metadata": {},
   "source": [
    "# Study dataset"
   ]
  },
  {
   "cell_type": "code",
   "execution_count": 7,
   "metadata": {},
   "outputs": [],
   "source": [
    "\n",
    "def plot_graph(nb_epochs, train, val, step):\n",
    "    plt.figure()\n",
    "    plt.plot(np.arange(nb_epochs), train)\n",
    "    plt.plot(np.arange(nb_epochs), val)\n",
    "    plt.legend(['training', 'validation'])\n",
    "    plt.xlabel('epoch')\n",
    "    plt.ylabel(f'{step} value')\n",
    "    plt.title(f'Train/val {step}');\n",
    "        \n",
    "    plt.show()"
   ]
  },
  {
   "cell_type": "code",
   "execution_count": 8,
   "metadata": {},
   "outputs": [],
   "source": [
    "class Training():\n",
    "    \n",
    "    def __init__(self, nb_epochs=20, device=torch.device('cpu')):\n",
    "        self.nb_epochs = nb_epochs\n",
    "        self.device = device\n",
    "    \n",
    "    def train(self, model, train_loader, optimizer, loss_func):\n",
    "        model.train()\n",
    "        \n",
    "        losses = []\n",
    "        correct_train_pred = 0\n",
    "        \n",
    "        for data, labels in train_loader:\n",
    "            data = data.to(self.device)\n",
    "            labels = labels.to(self.device)\n",
    "                        \n",
    "            # Predict the classes of the model\n",
    "            output = model(data)\n",
    "            \n",
    "            optimizer.zero_grad()\n",
    "            \n",
    "            # Compute the loss\n",
    "            loss = loss_func(output, labels)\n",
    "            \n",
    "            # Perform backprop\n",
    "            loss.backward()\n",
    "            optimizer.step()\n",
    "            \n",
    "            # Save current loss\n",
    "            losses.append(loss.item())\n",
    "            \n",
    "            # Save the number of correct classified items\n",
    "            predicted_labels = output.argmax(dim=1)\n",
    "            nb_correct = (predicted_labels == labels).sum().item()\n",
    "            correct_train_pred += nb_correct\n",
    "    \n",
    "        train_accuracy = 100. * (correct_train_pred / len(train_loader.dataset))\n",
    "        \n",
    "        return np.mean(np.array(losses)), train_accuracy\n",
    "    \n",
    "    def validation(self, model, val_loader, loss_func):\n",
    "        model.eval()\n",
    "        \n",
    "        losses = []\n",
    "        correct_val_predictions = 0\n",
    "        \n",
    "        with torch.no_grad():\n",
    "            for data, labels in val_loader:\n",
    "                data = data.to(self.device)\n",
    "                labels = labels.to(self.device)\n",
    "                \n",
    "                output = model(data)\n",
    "                \n",
    "                loss = loss_func(output, labels)\n",
    "                \n",
    "                # Save current loss\n",
    "                losses.append(loss.item())\n",
    "    \n",
    "                # Save the number of correct classified items\n",
    "                predicted_labels = output.argmax(dim=1)\n",
    "                n_correct = (predicted_labels == labels).sum().item()\n",
    "                correct_val_predictions += n_correct\n",
    "                \n",
    "        val_accuracy = 100. * (correct_val_predictions / len(val_loader.dataset))\n",
    "                \n",
    "        return np.mean(np.array(losses)), val_accuracy\n",
    "\n",
    "    def _print_info(self, train_loss, val_loss, train_acc, val_acc):\n",
    "        print(f'Train_loss: {train_loss:.3f} |\\\n",
    "                Val_loss: {val_loss:.3f} |\\\n",
    "                Train_acc: {train_acc:.3f} |\\\n",
    "                Val_acc: {val_acc:.3f}\\n')\n",
    "\n",
    "    def fit(self, model, train_loader, val_loader, optimizer, loss_func):\n",
    "        train_losses, val_losses = [], []\n",
    "        train_accuracies, val_accuracies = [], []\n",
    "\n",
    "        for epoch in range(self.nb_epochs):\n",
    "            train_loss, train_acc = self.train(model, train_loader, optimizer, loss_func)\n",
    "            val_loss, val_acc = self.validation(model, val_loader, loss_func)\n",
    "\n",
    "            train_losses.append(train_loss)\n",
    "            train_accuracies.append(train_acc)\n",
    "            val_losses.append(val_loss)\n",
    "            val_accuracies.append(val_acc)\n",
    "\n",
    "        self._print_info(train_losses[-1], val_losses[-1], train_accuracies[-1], val_accuracies[-1])\n",
    "\n",
    "        return train_losses, val_losses, train_accuracies, val_accuracies"
   ]
  },
  {
   "cell_type": "code",
   "execution_count": 9,
   "metadata": {},
   "outputs": [],
   "source": [
    "class MLP(nn.Module):\n",
    "    \n",
    "    def __init__(self, nhl):\n",
    "        super(MLP, self).__init__()\n",
    "        self.layers = nn.Sequential(\n",
    "            nn.Linear(784, nhl),\n",
    "            nn.ReLU(),\n",
    "            nn.Linear(nhl, 10)\n",
    "        )\n",
    "        \n",
    "    def forward(self, x):\n",
    "        # Flatten the images\n",
    "        x = x.view(x.size(0), -1)\n",
    "        # Create the layer\n",
    "        x = self.layers(x)\n",
    "        return x"
   ]
  },
  {
   "cell_type": "code",
   "execution_count": 10,
   "metadata": {},
   "outputs": [
    {
     "name": "stdout",
     "output_type": "stream",
     "text": [
      "number neurons: 10, learning rate: 0.001\n",
      "Train_loss: 0.245 |                Val_loss: 0.268 |                Train_acc: 93.090 |                Val_acc: 92.522\n",
      "\n",
      "number neurons: 10, learning rate: 0.01\n",
      "Train_loss: 0.242 |                Val_loss: 0.280 |                Train_acc: 92.918 |                Val_acc: 92.822\n",
      "\n",
      "number neurons: 10, learning rate: 0.1\n",
      "Train_loss: 1.678 |                Val_loss: 1.741 |                Train_acc: 33.400 |                Val_acc: 29.844\n",
      "\n",
      "number neurons: 50, learning rate: 0.001\n",
      "Train_loss: 0.061 |                Val_loss: 0.108 |                Train_acc: 98.114 |                Val_acc: 96.844\n",
      "\n",
      "number neurons: 50, learning rate: 0.01\n",
      "Train_loss: 0.110 |                Val_loss: 0.247 |                Train_acc: 97.073 |                Val_acc: 95.011\n",
      "\n",
      "number neurons: 50, learning rate: 0.1\n",
      "Train_loss: 1.346 |                Val_loss: 1.709 |                Train_acc: 51.590 |                Val_acc: 53.333\n",
      "\n",
      "number neurons: 100, learning rate: 0.001\n",
      "Train_loss: 0.037 |                Val_loss: 0.093 |                Train_acc: 98.869 |                Val_acc: 97.278\n",
      "\n",
      "number neurons: 100, learning rate: 0.01\n",
      "Train_loss: 0.102 |                Val_loss: 0.245 |                Train_acc: 97.357 |                Val_acc: 95.889\n",
      "\n",
      "number neurons: 100, learning rate: 0.1\n",
      "Train_loss: 1.290 |                Val_loss: 1.447 |                Train_acc: 57.786 |                Val_acc: 58.544\n",
      "\n",
      "\n",
      "\n",
      "Best parameters: 100 number of neurons in hidden layer, 0.001 learning_rate and validation accuracies: 97.28%\n"
     ]
    },
    {
     "data": {
      "image/png": "[encoded data removed]",
      "text/plain": [
       "<Figure size 432x288 with 1 Axes>"
      ]
     },
     "metadata": {
      "needs_background": "light"
     },
     "output_type": "display_data"
    },
    {
     "data": {
      "image/png": "[encoded data removed]",
      "text/plain": [
       "<Figure size 432x288 with 1 Axes>"
      ]
     },
     "metadata": {
      "needs_background": "light"
     },
     "output_type": "display_data"
    }
   ],
   "source": [
    "# Initial data\n",
    "nhl_set = [10, 50, 100]\n",
    "l_rate_set = [0.001, 0.01, 0.1]\n",
    "nb_epochs = 8\n",
    "loss_function = nn.CrossEntropyLoss()\n",
    "\n",
    "trainer = Training(nb_epochs)\n",
    "\n",
    "# best parameters: (validation acc, number neurons, learning rate)\n",
    "best_parameters = (float(\"-INF\"), None, None, None)\n",
    "\n",
    "# keep a copy of the best trained network\n",
    "best_model = None\n",
    "\n",
    "for nhl in nhl_set:\n",
    "        for l_rate in l_rate_set:\n",
    "            mlp = MLP(nhl)\n",
    "            optimizer = torch.optim.Adam(mlp.parameters(), lr=l_rate)\n",
    "\n",
    "            # The training take place here :\n",
    "            print(f'number neurons: {nhl}, learning rate: {l_rate}')\n",
    "            stats_training = trainer.fit(mlp, train_loader, val_loader, optimizer, loss_function)\n",
    "\n",
    "            if stats_training[3][-1] > best_parameters[0]:\n",
    "                best_parameters = (stats_training[3][-1], nhl, l_rate, stats_training)\n",
    "                best_model = deepcopy(mlp)\n",
    "\n",
    "best_acc, best_nhl, best_l_rate, best_stats = best_parameters\n",
    "train_losses, val_losses, train_accuracies, val_accuracies = best_stats\n",
    "\n",
    "print(f'\\n\\nBest parameters: {best_nhl} number of neurons in hidden layer, {best_l_rate} learning_rate and validation accuracies: {best_acc:.2f}%')\n",
    "\n",
    "plot_graph(nb_epochs, train_losses, val_losses, \"Loss\")\n",
    "plot_graph(nb_epochs, train_accuracies, val_accuracies, \"Accuracy\")"
   ]
  },
  {
   "cell_type": "code",
   "execution_count": 11,
   "metadata": {},
   "outputs": [
    {
     "name": "stdout",
     "output_type": "stream",
     "text": [
      "Accuracy on the test dataset 97.45%\n"
     ]
    }
   ],
   "source": [
    "mlp_loss_test, mlp_acc_test = trainer.validation(best_model, test_loader, loss_function)\n",
    "print(f'Accuracy on the test dataset {mlp_acc_test:.2f}%')"
   ]
  }
 ],
 "metadata": {
  "kernelspec": {
   "display_name": "Python 3",
   "language": "python",
   "name": "python3"
  },
  "language_info": {
   "codemirror_mode": {
    "name": "ipython",
    "version": 3
   },
   "file_extension": ".py",
   "mimetype": "text/x-python",
   "name": "python",
   "nbconvert_exporter": "python",
   "pygments_lexer": "ipython3",
   "version": "3.7.6"
  }
 },
 "nbformat": 4,
 "nbformat_minor": 4
}
